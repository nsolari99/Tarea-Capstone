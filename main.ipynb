{
 "cells": [
  {
   "cell_type": "code",
   "execution_count": 12,
   "metadata": {},
   "outputs": [],
   "source": [
    "import re\n",
    "import json\n",
    "import pandas as pd\n",
    "import datetime"
   ]
  },
  {
   "cell_type": "code",
   "execution_count": 38,
   "metadata": {},
   "outputs": [],
   "source": [
    "cols = ['content', 'retweetCount']\n",
    "tweets = []\n",
    "file_name = './farmers-protest-tweets-2021-03-5.json'\n",
    "with open(file_name) as jsonFile:\n",
    "    for line in jsonFile:\n",
    "        tweet = json.loads(line)\n",
    "        lst = [tweet['content'], tweet['retweetCount']]\n",
    "        tweets.append(lst)\n",
    "\n",
    "df = pd.DataFrame(data = tweets, columns = cols)"
   ]
  },
  {
   "cell_type": "code",
   "execution_count": 41,
   "metadata": {},
   "outputs": [],
   "source": [
    "df = df.sort_values(by=['retweetCount'], ascending=False)"
   ]
  },
  {
   "cell_type": "code",
   "execution_count": 44,
   "metadata": {},
   "outputs": [
    {
     "name": "stdout",
     "output_type": "stream",
     "text": [
      "408128    why aren’t we talking about this?! #FarmersPro...\n",
      "395142    We stand in solidarity with the #FarmersProtes...\n",
      "266196    I still #StandWithFarmers and support their pe...\n",
      "366579    “Paid actors,” huh? Quite the casting director...\n",
      "372793    What in the human rights violations is going o...\n",
      "314192    Happy to share that I’ve donated $10,000 to pr...\n",
      "215034    There has been much social media coverage arou...\n",
      "398011    Farmers feed the world. Fight for them. Protec...\n",
      "325261    Should be talking about this! #FarmersProtest\\...\n",
      "163689    To all of my influencer/celeb friends- read up...\n",
      "Name: content, dtype: object\n"
     ]
    }
   ],
   "source": [
    "print(df['content'].head(10))"
   ]
  },
  {
   "cell_type": "code",
   "execution_count": 35,
   "metadata": {},
   "outputs": [],
   "source": [
    "cols = ['Usuario', 'id']\n",
    "tweets = []\n",
    "file_name = './farmers-protest-tweets-2021-03-5.json'\n",
    "with open(file_name) as jsonFile:\n",
    "    for line in jsonFile:\n",
    "        tweet = json.loads(line)\n",
    "        lst = [tweet['user']['username'], tweet['user']['id']]\n",
    "        tweets.append(lst)\n",
    "\n",
    "df = pd.DataFrame(data = tweets, columns = cols)      "
   ]
  },
  {
   "cell_type": "code",
   "execution_count": 36,
   "metadata": {},
   "outputs": [
    {
     "data": {
      "text/plain": [
       "Usuario          id                 \n",
       "harjot_tweeting  980633168981061632     7134\n",
       "tasveersandhu    69027875               2091\n",
       "shells_n_petals  2930682630             1991\n",
       "jot__b           452391771              1841\n",
       "rebelpacifist    1354532795847073796    1806\n",
       "rumsomal         48085084               1722\n",
       "Iamjazzie96      872085660886282240     1502\n",
       "Jass_k_G         1340186972615307264    1460\n",
       "DigitalKisanBot  1309302936317636608    1453\n",
       "z_khalique007    921732117024919552     1446\n",
       "dtype: int64"
      ]
     },
     "execution_count": 36,
     "metadata": {},
     "output_type": "execute_result"
    }
   ],
   "source": [
    "df.value_counts().head(10)"
   ]
  },
  {
   "cell_type": "code",
   "execution_count": 15,
   "metadata": {},
   "outputs": [],
   "source": [
    "cols = ['Day']\n",
    "tweets = []\n",
    "file_name = './farmers-protest-tweets-2021-03-5.json'\n",
    "with open(file_name) as jsonFile:\n",
    "    for line in jsonFile:\n",
    "        tweet = json.loads(line)\n",
    "        dia = tweet['date']\n",
    "        fecha = dia.split('T')[0]\n",
    "        tweets.append(fecha)\n",
    "\n",
    "df = pd.DataFrame(data = tweets, columns = cols)    "
   ]
  },
  {
   "cell_type": "code",
   "execution_count": 17,
   "metadata": {},
   "outputs": [
    {
     "data": {
      "text/plain": [
       "Day       \n",
       "2021-02-03    83866\n",
       "2021-02-04    58607\n",
       "2021-02-05    33332\n",
       "2021-02-02    28548\n",
       "2021-02-06    22420\n",
       "2021-02-07    11325\n",
       "2021-02-09     9320\n",
       "2021-02-08     8920\n",
       "2021-02-10     7973\n",
       "2021-02-11     5698\n",
       "dtype: int64"
      ]
     },
     "execution_count": 17,
     "metadata": {},
     "output_type": "execute_result"
    }
   ],
   "source": [
    "df.value_counts().head(10)"
   ]
  },
  {
   "cell_type": "code",
   "execution_count": 18,
   "metadata": {},
   "outputs": [],
   "source": [
    "def extract_hashtags(text):\n",
    "    regex = \"#(\\w+)\"\n",
    "    hashtag_list = re.findall(regex, text)\n",
    "    return hashtag_list"
   ]
  },
  {
   "cell_type": "code",
   "execution_count": 24,
   "metadata": {},
   "outputs": [],
   "source": [
    "tweets = []\n",
    "hashtags = {}\n",
    "file_name = './farmers-protest-tweets-2021-03-5.json'\n",
    "with open(file_name) as jsonFile:\n",
    "    for line in jsonFile:\n",
    "        tweet = json.loads(line)\n",
    "        content = tweet['content']\n",
    "        hashtag_list = extract_hashtags(content)\n",
    "        for i in hashtag_list:\n",
    "            if i not in hashtags:\n",
    "                hashtags[i] = 1\n",
    "            else:\n",
    "                hashtags[i] += 1"
   ]
  },
  {
   "cell_type": "code",
   "execution_count": 34,
   "metadata": {},
   "outputs": [
    {
     "name": "stdout",
     "output_type": "stream",
     "text": [
      "('FarmersProtest', 406613)\n",
      "('IStandWithFarmers', 15783)\n",
      "('farmersprotest', 15458)\n",
      "('IndianFarmersHumanRights', 12019)\n",
      "('FarmersAreIndia', 11043)\n",
      "('StandWithFarmers', 10645)\n",
      "('Rihanna', 9117)\n",
      "('FarmersProtests', 8750)\n",
      "('Farmers', 6561)\n",
      "('shameonbollywood', 6270)\n"
     ]
    }
   ],
   "source": [
    "order_hashtags = sorted(hashtags.items(), key=lambda item: item[1], reverse=True)\n",
    "for i in range(10):\n",
    "    print(order_hashtags[i])\n",
    "    "
   ]
  },
  {
   "cell_type": "code",
   "execution_count": null,
   "metadata": {},
   "outputs": [],
   "source": []
  }
 ],
 "metadata": {
  "interpreter": {
   "hash": "31f2aee4e71d21fbe5cf8b01ff0e069b9275f58929596ceb00d14d90e3e16cd6"
  },
  "kernelspec": {
   "display_name": "Python 3 (ipykernel)",
   "language": "python",
   "name": "python3"
  },
  "language_info": {
   "codemirror_mode": {
    "name": "ipython",
    "version": 3
   },
   "file_extension": ".py",
   "mimetype": "text/x-python",
   "name": "python",
   "nbconvert_exporter": "python",
   "pygments_lexer": "ipython3",
   "version": "3.9.10"
  }
 },
 "nbformat": 4,
 "nbformat_minor": 2
}
